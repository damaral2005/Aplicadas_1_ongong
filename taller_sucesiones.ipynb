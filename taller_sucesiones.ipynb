{
  "nbformat": 4,
  "nbformat_minor": 0,
  "metadata": {
    "colab": {
      "provenance": [],
      "include_colab_link": true
    },
    "kernelspec": {
      "name": "python3",
      "display_name": "Python 3"
    },
    "language_info": {
      "name": "python"
    }
  },
  "cells": [
    {
      "cell_type": "markdown",
      "metadata": {
        "id": "view-in-github",
        "colab_type": "text"
      },
      "source": [
        "<a href=\"https://colab.research.google.com/github/damaral2005/Aplicadas_1_ongong/blob/main/taller_sucesiones.ipynb\" target=\"_parent\"><img src=\"https://colab.research.google.com/assets/colab-badge.svg\" alt=\"Open In Colab\"/></a>"
      ]
    },
    {
      "cell_type": "markdown",
      "source": [
        "#iNTEGRANTES\n",
        "#Daniel Martinez Alvarado A00404992\n",
        "#Juan David Fajardo A00406516\n",
        "#Jhony Bolaños García A00407209\n",
        "\n",
        "#Luis fernando soto bedoya A00406591"
      ],
      "metadata": {
        "id": "hKQcjkBAqHDf"
      }
    },
    {
      "cell_type": "markdown",
      "source": [
        "#puntos 1-10"
      ],
      "metadata": {
        "id": "OoIv2jWDCNMR"
      }
    },
    {
      "cell_type": "markdown",
      "source": [
        "##Punto1\n",
        "$1= \\sum_{k=1}^{\\infty }\\frac{2k+1}{k}= \\frac{2(1)+1}{1}= 3\\\\ \\frac{2(2)+1}{2}=\\frac{5}{2}\\\\ \\frac{2(3)+1}{3}=\\frac{7}{3}\\\\\\frac{2(4)+1}{4}=\\frac{9}{4}\\\\ \\left\\{ 3+\\frac{5}{2}+\\frac{7}{3}+\\frac{9}{4} \\right\\}=\\frac{121}{12}\\equiv 10.08\\\\\\\\\n",
        "37= \\sum_{k=1}^{\\infty } (-1)^{k} = \\{ -1,1,-1,1,-1... \\}$= Diverge\\\\\\\\\n",
        "\n"
      ],
      "metadata": {
        "id": "C2MM5wZh_KWV"
      }
    },
    {
      "cell_type": "markdown",
      "source": [
        "##Punto 4\n",
        "\n",
        "$\\Sigma_{K=1}^{\\infty} = \\frac{2n!}{K3^{k}}$\n",
        "\n",
        "K=1\n",
        "$\\Sigma_{K=1}^{\\infty} = \\frac{1}{3}$ Aprox 0.33..\n",
        "\n",
        "K=2\n",
        "$\\Sigma_{K=2}^{\\infty} = \\frac{4}{3}$ Aprox 1.333...\n",
        "\n",
        "K=3\n",
        "$\\Sigma_{K=3}^{\\infty} = \\frac{720}{81}$ Aprox 8.8889\n",
        "\n",
        "K=4\n",
        "$\\Sigma_{K=4}^{\\infty} = \\frac{40320}{324}$ Aprox 124,444..."
      ],
      "metadata": {
        "id": "5Ye62rElEKYy"
      }
    },
    {
      "cell_type": "markdown",
      "source": [
        "## Punto 5\n",
        "\n",
        "\\[$\n",
        "\\sum_{n=0}^{\\infty} \\frac{n + 1}{n!}\n",
        "$\\]\n",
        "\n",
        "Para los primeros cuatro términos:\n",
        "\n",
        "- Para \\($ n = 0 $\\):\n",
        "  \\[$\n",
        "  \\frac{0 + 1}{0!} = 1\n",
        "  $\\]\n",
        "\n",
        "- Para \\($ n = 1 $\\):\n",
        "  \\[$\n",
        "  \\frac{1 + 1}{1!} = 2\n",
        "  $\\]\n",
        "\n",
        "- Para \\($ n = 2 $\\):\n",
        "  \\[$\n",
        "  \\frac{2 + 1}{2!} = \\frac{3}{2} \\approx 1.5\n",
        "  $\\]\n",
        "\n",
        "- Para \\($ n = 3 $\\):\n",
        "  \\[$\n",
        "  \\frac{3 + 1}{3!} = \\frac{4}{6} = \\frac{2}{3} \\approx 0.6667\n",
        "  $\\]\n"
      ],
      "metadata": {
        "id": "6VxE655WFBhi"
      }
    },
    {
      "cell_type": "markdown",
      "source": [
        "#Puntos 11-14"
      ],
      "metadata": {
        "id": "E8Fuv8hIGM_Z"
      }
    },
    {
      "cell_type": "markdown",
      "source": [
        "##punto 11\n",
        "\n",
        "$\\sum_{k=1}^{\\infty } \\frac{1}{k}-\\frac{1}{k+1}=\\frac{1}{(1)}-\\frac{1}{(1)+1}= \\frac{1}{1}-\\frac{1}{2}\\\\\\frac{1}{(2)}-\\frac{1}{(2)+1}= \\frac{1}{2}-\\frac{1}{3}\\\\ \\frac{1}{3}-\\frac{1}{(3)+1}=\\frac{1}{3}-\\frac{1}{4}\\\\\\left\\{ 1-\\frac{1}{2}+\\frac{1}{2}-\\frac{1}{3}+\\frac{1}{3}-\\frac{1}{4}+... \\right\\}=1\\\\\\\\ $\n"
      ],
      "metadata": {
        "id": "FUg08MhRGqVw"
      }
    },
    {
      "cell_type": "markdown",
      "source": [
        "#Puntos 15-24\n"
      ],
      "metadata": {
        "id": "Uy1OEJgYG_mB"
      }
    },
    {
      "cell_type": "markdown",
      "source": [
        "## Ejercicio 15\n",
        "\n",
        "$\\sum_{k=1}^{\\infty }3(\\frac{1}{5})^{k-1}$\n",
        "\n",
        "\n",
        "***Solución***\n",
        "\n",
        "$3\\sum_{k=1}^{\\infty }(\\frac{1}{5})^{k-1}$\n",
        "\n",
        "$3\\sum_{k=1}^{\\infty }\\frac{(\\frac{1}{5})^{k}}{(\\frac{1}{5})}$\n",
        "\n",
        "$S=\\frac{1}{1-(\\frac{1}{5})}$\n",
        "\n",
        "$S=(\\frac{1}{\\frac{4}{5}})$\n",
        "\n",
        "$S=\\frac{3\\times 5}{4}$\n",
        "\n",
        "$S=\\frac{15}{4}$\n",
        "\n",
        "*Converge teniendo en cuenta el* $\\frac{1}{5}=0.2$"
      ],
      "metadata": {
        "id": "C3lW7iOCbdY_"
      }
    },
    {
      "cell_type": "markdown",
      "source": [
        "##punto 19\n",
        "$ \\sum_{r=1}^{\\infty } 5^{r}4^{-r}=\\sum_{r=1}^{\\infty }= 5^{r}(\\frac{1}{4^{r}})\\\\\n",
        "5^{1}(\\frac{1}{4^{1}})= \\frac{5}{4}\\\\\n",
        "5^{2}(\\frac{1}{4^{2}})= \\frac{25}{16}\\\\\n",
        "5^{3}(\\frac{1}{4^{3}})=\\frac{125}{64}\\\\\n",
        "\\left\\{ \\frac{5}{4}, \\frac{25}{16}, \\frac{125}{64},... \\right\\}= Diverge$"
      ],
      "metadata": {
        "id": "r_0LvtHTJ-KA"
      }
    },
    {
      "cell_type": "markdown",
      "source": [
        "##Punto 17\n",
        "\n",
        "$$\\sum_{k=1}^{\\infty} \\frac{(-1)^{k-1}}{2^{k-1}}$$\n",
        "\n",
        "La razón es 1/2 y se toma el val absoluto de este por lo que queda positivo y su division nos da 0,5 el cual es un valor entre 0 y uno por lo que la serie converge.\n",
        "\n",
        "Ademas con k=1 nos da:\n",
        "$$\\sum_{k=1}^{\\infty} \\frac{(-1)^{0}}{2^{0}} = 1/1 = 1$$\n",
        "Ademas con k=2\n",
        "$$\\sum_{k=2}^{\\infty} \\frac{(-1)^{1}}{2^{1}} = |0,5|$$\n",
        "k=3\n",
        "$$\\sum_{k=3}^{\\infty} \\frac{(-1)^{2}}{2^{2}} = |0,25|$$\n",
        "etc..."
      ],
      "metadata": {
        "id": "72oY8bDIKMYr"
      }
    },
    {
      "cell_type": "markdown",
      "source": [
        "## Punto 22\n",
        "\n",
        "\\[$\n",
        "\\sum_{n=1}^{\\infty} \\frac{(1.1)^n}{1000}\n",
        "$\\]\n",
        "\n",
        "Para determinar la convergencia y calcular la suma:\n",
        "\n",
        "### Verificación de convergencia\n",
        "\n",
        "La razón de la serie es \\( r = 1.1 \\).\n",
        "\n",
        "Como \\( |r| > 1 \\), la serie **diverge**.\n"
      ],
      "metadata": {
        "id": "G-J78hmQLA1-"
      }
    },
    {
      "cell_type": "markdown",
      "source": [
        "## Ejercicio 23\n",
        "\n",
        "$\\sum_{k=0}^{\\infty }\\frac{1}{(\\sqrt{3}-\\sqrt{2})^{k}}$\n",
        "\n",
        "***Solución***\n",
        "\n",
        "$\\sum_{k=0}^{\\infty }ar^{k}$\n",
        "\n",
        "$r=\\frac{1}{\\sqrt{3}-\\sqrt{2}}$\n",
        "\n",
        "$r=\\frac{1}{\\sqrt{3}-\\sqrt{2}}\\times \\frac{\\sqrt{3}+\\sqrt{2}}{\\sqrt{3}+\\sqrt\n",
        "${2}}=\\frac{\\sqrt{3}+\\sqrt{2}}{(\\sqrt{3})^{2}-(\\sqrt{2})^{2}}$\n",
        "\n",
        "$(\\sqrt{3})^{2}-(\\sqrt{2})^{2}=3-2=1$\n",
        "\n",
        "$r=\\sqrt{3}+\\sqrt{2}$\n",
        "\n",
        "$r=3,14626...$\n",
        "\n",
        "$\\left| r \\right|<1$\n",
        "\n",
        "*Diverge*\n"
      ],
      "metadata": {
        "id": "F6aUwzTTbpUn"
      }
    },
    {
      "cell_type": "markdown",
      "source": [
        "#PUNTOS 25-30\n"
      ],
      "metadata": {
        "id": "P8MQsmlvL-6i"
      }
    },
    {
      "cell_type": "markdown",
      "source": [
        "## Ejercicio 25\n",
        "0.222...\n",
        "\n",
        "***Solución***\n",
        "\n",
        "x = 0.222...\n",
        "\n",
        "10x = 2.222...\n",
        "\n",
        "10x - x = 2.222... - 0.222...\n",
        "\n",
        "9x = 2\n",
        "\n",
        "x = $\\frac{2}{9}$\n",
        "\n",
        "$\\frac{2}{9}$ = 0.22222..."
      ],
      "metadata": {
        "id": "nVdfJtIFb5nT"
      }
    },
    {
      "cell_type": "markdown",
      "source": [
        "##punto 28\n",
        "Sea $x = 0.\\overline{393939}$.\n",
        "\n",
        "Multiplicamos por 100:\n",
        "\n",
        "\\[$\n",
        "100x = 39.\\overline{393939}\n",
        "$\\]\n",
        "\n",
        "Restamos la ecuación original:\n",
        "\n",
        "\\[$\n",
        "100x - x = 39.\\overline{393939} - 0.\\overline{393939}\n",
        "$\\]\n",
        "\n",
        "Esto nos da:\n",
        "\n",
        "\\[$\n",
        "99x = 39\n",
        "$\\]\n",
        "\n",
        "Despejando $x$:\n",
        "\n",
        "\\[$\n",
        "x = \\frac{39}{99}\n",
        "$\\]\n",
        "\n",
        "Simplificamos la fracción:\n",
        "\n",
        "\\[$\n",
        "x = \\frac{39 }{99 } = \\frac{13}{33}\n",
        "$\\]\n",
        "\n",
        "Por lo tanto, $0.\\overline{393939} = \\frac{13}{33}$.\n"
      ],
      "metadata": {
        "id": "QeeZPRGDMByg"
      }
    },
    {
      "cell_type": "markdown",
      "source": [
        "#Puntos 31-32\n",
        "\n"
      ],
      "metadata": {
        "id": "pNHPrTo8MSYS"
      }
    },
    {
      "cell_type": "markdown",
      "source": [
        "## Ejercicio 31\n",
        "$\\sum_{k=1}^{\\infty }[(\\frac{1}{3})^{k-1}+(\\frac{1}{4})^{k-1}]$\n",
        "\n",
        "***Solución***\n",
        "\n",
        "$\\sum_{k=1}^{\\infty }(\\frac{1}{3})^{k-1}+\\sum_{k=1}^{\\infty }(\\frac{1}{4})^{k-1}$\n",
        "\n",
        "$S_{1}=\\frac{1}{1-\\frac{1}{3}}=\\frac{1}{\\frac{2}{3}}=\\frac{3}{2}$\n",
        "\n",
        "$S_{2}=\\frac{1}{1-\\frac{1}{4}}=\\frac{1}{\\frac{3}{4}}=\\frac{4}{3}$\n",
        "\n",
        "$S=\\frac{3}{2}+\\frac{4}{3}$\n",
        "\n",
        "$S=\\frac{17}{6}$\n",
        "\n",
        "*Ambas series convergen y la suma total tambien converge*"
      ],
      "metadata": {
        "id": "mLQ0GaUsMg6k"
      }
    },
    {
      "cell_type": "markdown",
      "source": [
        "#Puntos 33-42"
      ],
      "metadata": {
        "id": "HZNsOmp2MekX"
      }
    },
    {
      "cell_type": "markdown",
      "source": [
        "## Punto 33\n",
        "\n",
        "\\[$\n",
        "\\sum_{k=1}^{\\infty} 10\n",
        "$\\]\n",
        "\n",
        "### Verificación de convergencia\n",
        "\n",
        "La serie se puede expresar como:\n",
        "\n",
        "\\[$\n",
        "\\sum_{k=1}^{\\infty} 10 = 10 + 10 + 10 + \\ldots\n",
        "$\\]\n",
        "\n",
        "\n",
        "\n",
        "Dado que cada término de la serie es constante y positivo (\\(10\\)), la serie diverge.\n",
        "\n",
        "Para formalizarlo, podemos observar que:\n",
        "\n",
        "\\[$\n",
        "\\text{Si } a_k = 10 \\text{, entonces } \\lim_{k \\to \\infty} a_k \\neq 0.\n",
        "$\\]\n",
        "\n",
        "Por el criterio de divergencia, si el límite de los términos de la serie no es cero, la serie diverge.\n",
        "\n",
        "### Conclusión\n",
        "\n",
        "La serie\n",
        "\n",
        "\\[$\n",
        "\\sum_{k=1}^{\\infty} 10\n",
        "$\\]\n",
        "\n",
        "diverge."
      ],
      "metadata": {
        "id": "8YbiQCQYM0Mc"
      }
    },
    {
      "cell_type": "markdown",
      "source": [
        "##Punto 40\n",
        "\n",
        "$\\Sigma_{K=1}^{\\infty} = \\frac{1}{6k}$\n",
        "\n",
        "$\\Sigma_{K=1}^{\\infty} = \\frac{1}{6} * \\frac{1}{k}$\n",
        "\n",
        "Evaluar multiples puntos con linspace\n",
        "##No converge a un valor"
      ],
      "metadata": {
        "id": "_b6Br45BNRsd"
      }
    },
    {
      "cell_type": "code",
      "source": [
        "import numpy as np\n",
        "import matplotlib.pyplot as plt\n",
        "\n",
        "n = input(\"Ingrese el valor de n: \")\n",
        "n = int(n)\n",
        "sumasmientras = [] #Array guarda\n",
        "\n",
        "sum = 0\n",
        "\n",
        "kvals = np.arange(1, n + 1)\n",
        "\n",
        "for k in range(1, n + 1):\n",
        "    sum += 1 / (6 * k)\n",
        "    sumasmientras.append(sum) #guarda en sumasmientras\n",
        "\n",
        "\n",
        "plt.plot(kvals, sumasmientras, label='Suma parcial')\n",
        "plt.xlabel('k')\n",
        "plt.ylabel('Suma parcial')\n",
        "plt.title('Suma parcial  serie 1/(6k)')\n",
        "plt.show()"
      ],
      "metadata": {
        "colab": {
          "base_uri": "https://localhost:8080/",
          "height": 490
        },
        "id": "8dk3AbrqNVD5",
        "outputId": "b2236662-2566-489d-a950-d2e2d8c2d3be"
      },
      "execution_count": null,
      "outputs": [
        {
          "name": "stdout",
          "output_type": "stream",
          "text": [
            "Ingrese el valor de n: 400\n"
          ]
        },
        {
          "output_type": "display_data",
          "data": {
            "text/plain": [
              "<Figure size 640x480 with 1 Axes>"
            ],
            "image/png": "[encoded data removed]"
          },
          "metadata": {}
        }
      ]
    },
    {
      "cell_type": "markdown",
      "source": [
        "##punto 37\n",
        "$ \\sum_{k=1}^{\\infty } (-1)^{k} = \\{ -1,1,-1,1,-1... \\}$= Diverge\n"
      ],
      "metadata": {
        "id": "PgRzy8sSNtfv"
      }
    },
    {
      "cell_type": "markdown",
      "source": [
        "#punto 47\n",
        "## Solución: Distancia total que recorre la pelota antes de quedar en reposo\n",
        "\n",
        "La pelota se deja caer desde una altura inicial de 15 pies y rebota alcanzando una fracción fija \\($ r = \\frac{2}{3} $\\) de la altura anterior. Queremos calcular la distancia total que la pelota recorre antes de quedar en reposo utilizando una serie geométrica.\n",
        "\n",
        "### Paso 1: Descripción de la serie geométrica\n",
        "\n",
        "La distancia total recorrida (\\( $D $\\)) incluye la caída inicial y la suma de todas las distancias de los rebotes:\n",
        "\n",
        "\\[$\n",
        "D = \\text{altura inicial} + 2 \\sum_{n=1}^{\\infty} \\text{altura del } n\\text{-ésimo rebote}\n",
        "$\\]\n",
        "\n",
        "\\[$\n",
        "D = 15 + 2 \\sum_{n=1}^{\\infty} 15r^n\n",
        "$\\]\n",
        "\n",
        "### Paso 2: Aplicación de la fórmula de la serie geométrica infinita\n",
        "\n",
        "La serie geométrica infinita es de la forma \\($\\sum_{n=1}^{\\infty} r^n = \\frac{r}{1 - r} $\\) para \\($ |r| < 1 $\\). Por lo tanto,\n",
        "\n",
        "\\[$\n",
        "D = 15 + 30 \\left(\\frac{r}{1 - r}\\right)\n",
        "$\\]\n",
        "\n",
        "Sustituyendo \\($ r = \\frac{2}{3} $\\):\n",
        "\n",
        "\\[$\n",
        "D = 15 + 30 \\left(\\frac{\\frac{2}{3}}{1 - \\frac{2}{3}}\\right)\n",
        "$\\]\n",
        "\n",
        "Simplificando:\n",
        "\n",
        "\\[$\n",
        "D = 15 + 30 \\left(\\frac{\\frac{2}{3}}{\\frac{1}{3}}\\right)\n",
        "$\\]\n",
        "\n",
        "\\[$\n",
        "D = 15 + 30 \\times 2\n",
        "$\\]\n",
        "\n",
        "\\[$\n",
        "D = 15 + 60\n",
        "$\\]\n",
        "\n",
        "\\[$\n",
        "D = 75 \\text{ pies}\n",
        "$\\]\n",
        "\n",
        "\n",
        "\n",
        "\n",
        "\n",
        "K = \\($\\infty$\\) (suma total):\n",
        "\n",
        "\\[$\n",
        "D = 15 + 30 \\times 2 = 75 \\text{ pies}\n",
        "$\\]\n",
        "\n"
      ],
      "metadata": {
        "id": "SblUSljhOCRh"
      }
    },
    {
      "cell_type": "markdown",
      "source": [
        "#Punto 51\n",
        "Un paciente toma 15 mg de un fármaco diariamente. Si\n",
        "80% del fármaco acumulado se excreta cada día median-\n",
        "te las funciones corporales, ¿qué cantidad del fármaco se\n",
        "acumulará después de un largo periodo, esto es, cuando n tiende a infinito (Suponga que *la* medición de la acumulación se\n",
        "hace inmediatamente después de cada dosis)\n",
        "\n",
        "#Una serie\n",
        "Donde se suma cada vez cuanto se va acumulando\n",
        "\n",
        "15mg diarios\n",
        "-80%\n",
        "queda 20 o 0,2\n",
        "\n",
        "por lo que se acumula un total de  an+1= 0,2n+15\n",
        "siendo n los dias pasados\n",
        "an al final del dia n\n",
        "15 los gramos diarios\n",
        "###Despejar A$\\infty$ (n --> $\\infty$)\n",
        "$an+1= 0,2n+15$\n",
        "\n",
        "$an\\infty-0,2\\infty$ = 1 - 0,2  \n",
        "\n",
        "####porque: 1(cantidad del farmaco)-0,2(Cantidad que queda del farmaco) = 0,8\n",
        "\n",
        "$0,8A\\infty=15$\n",
        "\n",
        "$A\\infty=15/0,8$\n",
        "\n",
        "###Cantidad acumulada = 18,75 cuando n-->$\\infty$"
      ],
      "metadata": {
        "id": "imnOedVFOG1C"
      }
    }
  ]
}