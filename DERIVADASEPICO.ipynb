{
  "nbformat": 4,
  "nbformat_minor": 0,
  "metadata": {
    "colab": {
      "provenance": [],
      "authorship_tag": "ABX9TyOgKPpvRLJn4m7/AYUtKD9l",
      "include_colab_link": true
    },
    "kernelspec": {
      "name": "python3",
      "display_name": "Python 3"
    },
    "language_info": {
      "name": "python"
    }
  },
  "cells": [
    {
      "cell_type": "markdown",
      "metadata": {
        "id": "view-in-github",
        "colab_type": "text"
      },
      "source": [
        "<a href=\"https://colab.research.google.com/github/damaral2005/Aplicadas_1_ongong/blob/main/DERIVADASEPICO.ipynb\" target=\"_parent\"><img src=\"https://colab.research.google.com/assets/colab-badge.svg\" alt=\"Open In Colab\"/></a>"
      ]
    },
    {
      "cell_type": "markdown",
      "source": [
        "#NVm funciones\n",
        ">Dominio -> Codominio (cada uno debe de llevarse otro del codomonio)\n",
        "\n",
        ">Inyectiva -> 1 V 1\n",
        "\n",
        ">Codominio : el dominio de la inversa AKA : el rango\n",
        "\n",
        "tipos de curvas\n",
        ">algebreicas\n",
        ">>racionales, irracionales\n",
        "\n",
        ">las transcendentes\n",
        ">>logaritmicas\n",
        "\n",
        "##La continuidad\n",
        "Se considera continua si:\n",
        "una funcion de F(x) se considera continua en x= a si:\n",
        ">f(a) existe\n",
        "\n",
        ">lim x-> a f(x) existe\n",
        "\n",
        "> lim x -> a f(x) = f(a)\n",
        "\n",
        "##la discontinuidad\n",
        ">Discontinuidad de salto: Esta se da cuando los limites laterales no son iguales\n",
        "\n",
        ">discontinua removibles : se da cuando la funcion f(a) y el limite Lim x -> a f(x) NO son iguales\n",
        "\n",
        ">Discontinuidad de salto infinito o asintotica: se da cuando f(a) = E/  y el limite lim x -> a f(x) = +- infinito  \n"
      ],
      "metadata": {
        "id": "V2L4PARQCQ3n"
      }
    },
    {
      "cell_type": "code",
      "execution_count": null,
      "metadata": {
        "id": "T1dLnOYJ82pY"
      },
      "outputs": [],
      "source": []
    }
  ]
}