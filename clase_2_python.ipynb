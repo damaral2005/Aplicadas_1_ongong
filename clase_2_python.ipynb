{
  "nbformat": 4,
  "nbformat_minor": 0,
  "metadata": {
    "colab": {
      "provenance": [],
      "authorship_tag": "ABX9TyMVOC6xTDIQkZkWe6QVhHDR",
      "include_colab_link": true
    },
    "kernelspec": {
      "name": "python3",
      "display_name": "Python 3"
    },
    "language_info": {
      "name": "python"
    }
  },
  "cells": [
    {
      "cell_type": "markdown",
      "metadata": {
        "id": "view-in-github",
        "colab_type": "text"
      },
      "source": [
        "<a href=\"https://colab.research.google.com/github/damaral2005/Aplicadas_1_ongong/blob/main/clase_2_python.ipynb\" target=\"_parent\"><img src=\"https://colab.research.google.com/assets/colab-badge.svg\" alt=\"Open In Colab\"/></a>"
      ]
    },
    {
      "cell_type": "markdown",
      "source": [
        "CADENAS (String)\n",
        ">  \"esto es texto\""
      ],
      "metadata": {
        "id": "JRsWFLMchWTS"
      }
    },
    {
      "cell_type": "code",
      "source": [
        "\"hola hola \""
      ],
      "metadata": {
        "colab": {
          "base_uri": "https://localhost:8080/",
          "height": 36
        },
        "id": "cpQMvwsXhYN_",
        "outputId": "42eed2ab-2cfc-40b8-ef13-da13d63d1df7"
      },
      "execution_count": 1,
      "outputs": [
        {
          "output_type": "execute_result",
          "data": {
            "text/plain": [
              "'hola hola '"
            ],
            "application/vnd.google.colaboratory.intrinsic+json": {
              "type": "string"
            }
          },
          "metadata": {},
          "execution_count": 1
        }
      ]
    },
    {
      "cell_type": "markdown",
      "source": [
        "VARIABLES\n",
        ">int es para numeros enteros x = 2, t = 23, o = 123123\n",
        ">>float es lo equivalente a double en java y es para numeros decimales\n",
        ">>> Boolean pues true false, a==b, a!=b, a<b"
      ],
      "metadata": {
        "id": "9eixqscxhnGI"
      }
    },
    {
      "cell_type": "markdown",
      "source": [
        "Los numeros complejos son representados por la letra j c = 2 * 3j\n"
      ],
      "metadata": {
        "id": "beQ-TUbXjDcc"
      }
    },
    {
      "cell_type": "markdown",
      "source": [
        "#CAMBIO DE VARIABLES#\n",
        "pues para cambiar una variable a otra jj\n",
        ">str()\n",
        ">>int()\n",
        ">>>float()\n",
        ">>>>complex()\n"
      ],
      "metadata": {
        "id": "hDBSEM5NmFOQ"
      }
    },
    {
      "cell_type": "markdown",
      "source": [
        "+ \" + \"= SUMA\n",
        "- \" - \"= RESTA\n",
        "- \" - \" = NEGACION\n",
        "* \" * \"= MULTIPLICACION\n",
        "+ \" ** \" = EXPONENENTE\n",
        "+ / = DIVISION\n",
        "+ // = DIVISION ENTERA\n",
        "+ % = MODULO"
      ],
      "metadata": {
        "id": "7sqvPCCymvYM"
      }
    }
  ]
}