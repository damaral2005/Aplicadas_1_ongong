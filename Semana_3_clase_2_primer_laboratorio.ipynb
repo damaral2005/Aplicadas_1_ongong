{
  "nbformat": 4,
  "nbformat_minor": 0,
  "metadata": {
    "colab": {
      "provenance": [],
      "authorship_tag": "ABX9TyMYDhlUFLj5MpNNkEYb7Rbb",
      "include_colab_link": true
    },
    "kernelspec": {
      "name": "python3",
      "display_name": "Python 3"
    },
    "language_info": {
      "name": "python"
    }
  },
  "cells": [
    {
      "cell_type": "markdown",
      "metadata": {
        "id": "view-in-github",
        "colab_type": "text"
      },
      "source": [
        "<a href=\"https://colab.research.google.com/github/damaral2005/Aplicadas_1_ongong/blob/main/Semana_3_clase_2_primer_laboratorio.ipynb\" target=\"_parent\"><img src=\"https://colab.research.google.com/assets/colab-badge.svg\" alt=\"Open In Colab\"/></a>"
      ]
    },
    {
      "cell_type": "markdown",
      "source": [
        "#While#\n"
      ],
      "metadata": {
        "id": "lbr_MxF5k_88"
      }
    },
    {
      "cell_type": "code",
      "source": [
        "i=0\n",
        "while i<5:\n",
        "  i=i+1\n",
        "  print(i)\n",
        "\n",
        "#lista vacia\n",
        "num=[]\n",
        "while len(num)<5 :\n",
        "  valoringresado =int(input(\"Cantidad de dinero a agreagar\"))\n",
        "  if valoringresado % 2 == 0:\n",
        "    num.append(valoringresado)\n",
        "print (num)"
      ],
      "metadata": {
        "colab": {
          "base_uri": "https://localhost:8080/"
        },
        "id": "RM5uww2MlKPA",
        "outputId": "44328521-8de0-42dc-b810-2c6223d9d8a0"
      },
      "execution_count": null,
      "outputs": [
        {
          "output_type": "stream",
          "name": "stdout",
          "text": [
            "1\n",
            "2\n",
            "3\n",
            "4\n",
            "5\n",
            "Cantidad de dinero a agreagar13\n",
            "Cantidad de dinero a agreagar17\n",
            "Cantidad de dinero a agreagar2\n",
            "Cantidad de dinero a agreagar14\n",
            "Cantidad de dinero a agreagar2\n",
            "Cantidad de dinero a agreagar312\n",
            "Cantidad de dinero a agreagar123\n",
            "Cantidad de dinero a agreagar32\n",
            "[2, 14, 2, 312, 32]\n"
          ]
        }
      ]
    },
    {
      "cell_type": "code",
      "source": [
        "#tabla de multiplicar\n",
        "\n",
        "def imprimir_tabla(numero):\n",
        "\n",
        "    limite = 12-\n",
        "    contador = 1\n",
        "\n",
        "    while contador <= limite:\n",
        "        resultado = contador * numero\n",
        "        print(\"{} x {} = {}\".format(numero, contador, resultado))\n",
        "        # Incrementar contador para no caer en ciclo infinito\n",
        "        contador = contador + 1\n",
        "\n",
        "# Probar función\n",
        "imprimir_tabla(2)"
      ],
      "metadata": {
        "id": "lU1k6XvUpvTa"
      },
      "execution_count": null,
      "outputs": []
    },
    {
      "cell_type": "markdown",
      "source": [
        "#Formularios#\n"
      ],
      "metadata": {
        "id": "ieqhDH7hqXHB"
      }
    },
    {
      "cell_type": "code",
      "source": [
        "# @title calculadora { run: \"auto\", vertical-output: true }\n",
        "numero_1 = 23 # @param {type:\"number\"}\n",
        "numero_2 = 12321 # @param {type:\"number\"}\n",
        "\n",
        "print(\"el resultado de la suma es\", numero_1 + numero_2)"
      ],
      "metadata": {
        "colab": {
          "base_uri": "https://localhost:8080/"
        },
        "cellView": "form",
        "id": "b5CcDB5TqcYV",
        "outputId": "2acbaa27-644a-4b9d-87fd-360eb7b15975"
      },
      "execution_count": null,
      "outputs": [
        {
          "output_type": "stream",
          "name": "stdout",
          "text": [
            "el resultado de la suma es 12344\n"
          ]
        }
      ]
    },
    {
      "cell_type": "markdown",
      "source": [
        "#banco#"
      ],
      "metadata": {
        "id": "otgJqTgSp1sa"
      }
    },
    {
      "cell_type": "code",
      "source": [
        "print(\"Welcome to Colombia's number one bank\")\n",
        "Saldo = 1000\n",
        "account_names = []\n",
        "account_passwords = []\n",
        "Nombrecuenta = input(\"Hi new user, please create the name of your account\")\n",
        "Password = int(input(\"Hi new user, please create a password for your account (this password must be in numbers):\"))\n",
        "# Verification process\n",
        "account_names.append(Nombrecuenta)\n",
        "account_passwords.append(Password)\n",
        "verificationPassword = int(input(\"Enter your already created password: \"))\n",
        "if Password == verificationPassword:\n",
        "    print(\"Password verified successfully!\")\n",
        "    print(\"Welcome to your account \" + Nombrecuenta) # Now Nombrecuenta holds the user input\n",
        "    opcion = int(input(\"Options: 1. Deposit 2. See balance 3. Withdraw  4. Transfer 5. Exit: \"))\n",
        "\n",
        "    def cajero(Saldo, opcion):\n",
        "        if opcion == 1:\n",
        "            plataameter = int(input(\"Ingrese la cantidad a depositar: \"))\n",
        "            Saldo = Saldo + plataameter\n",
        "            print(\"Your current balance is: \" + str(Saldo))\n",
        "        elif opcion == 2:\n",
        "            print(\"Your current balance is: \" + str(Saldo))\n",
        "        elif opcion == 3:\n",
        "            plataasacar = int(input(\"Enter the amount to withdrawl: \"))\n",
        "            if plataasacar < Saldo:\n",
        "                Saldo = Saldo - plataasacar\n",
        "                print(\"Your current balance: \" + str(Saldo))\n",
        "            else:\n",
        "                print(\"Not enough founds.\")\n",
        "        elif opcion == 4:\n",
        "            plataatransferir = int(input(\"Enter the amount to transfer: \"))\n",
        "            if plataatransferir < Saldo:\n",
        "                cuenta_transferencia = str(input(\"Enter the name of the account you want to transfer to : \"))\n",
        "                Saldo = Saldo - plataatransferir\n",
        "                print(\" The tranfer was succesful\")\n",
        "                print(\"Your current balance is:\" + str(Saldo))\n",
        "            else:\n",
        "                print(\"Not enough founds.\")\n",
        "        elif opcion == 5:\n",
        "            print(\"Thank fo using Colombia`s number one bank\")\n",
        "        else:\n",
        "            print(\"Invalid option\")\n",
        "\n",
        "    cajero(Saldo, opcion)\n",
        "\n",
        "else:\n",
        "    print(\"Passwords do not match. Please try again\")"
      ],
      "metadata": {
        "colab": {
          "base_uri": "https://localhost:8080/"
        },
        "id": "FFQhTmFuaKZC",
        "outputId": "ddf51b41-181d-425f-cf31-a1684bc34608"
      },
      "execution_count": null,
      "outputs": [
        {
          "output_type": "stream",
          "name": "stdout",
          "text": [
            "Welcome to Colombia's number one bank\n",
            "Hi new user, please create the name of your accountdaniel\n",
            "Hi new user, please create a password for your account (this password must be in numbers):2387\n",
            "Enter your already created password: 1105\n",
            "Passwords do not match. Please try again\n"
          ]
        }
      ]
    },
    {
      "cell_type": "code",
      "source": [
        "import numpy as np\n",
        "\n",
        "print(\"Bienvenido al PlataYa\")\n",
        "Saldo = np.random.choice(np.linspace(100, 10000, 100))\n",
        "\n",
        "account_names = []\n",
        "account_passwords = []\n",
        "\n",
        "Nombrecuenta = input(\"Please create the name of your account\")\n",
        "Password = int(input(\"Please create a password (this password must be in numbers):\"))\n",
        "# Verification process\n",
        "account_names.append(Nombrecuenta)\n",
        "account_passwords.append(Password)\n",
        "verificationPassword = int(input(\"Enter your already created password: \"))\n",
        "if Password == verificationPassword:\n",
        "    print(\"Password verified successfully!\")\n",
        "    print(\"Welcome to your account \" + Nombrecuenta) # Now Nombrecuenta holds the user input\n",
        "\n",
        "    while True:\n",
        "        print(\"Opciones: 1. Depositar 2. Ver saldo 3. Retirar 4. Transferir 5. Salir\")\n",
        "\n",
        "        opcion = int(input(\"Seleccione una opción: \"))\n",
        "\n",
        "        if opcion == 1:\n",
        "            cantidad = int(input(\"Ingrese la cantidad a depositar: \"))\n",
        "            Saldo += cantidad\n",
        "            print(\"Su saldo actual es: \" + str(Saldo))\n",
        "        elif opcion == 2:\n",
        "            print(\"Su saldo actual es: \" + str(Saldo))\n",
        "        elif opcion == 3:\n",
        "            cantidad = int(input(\"Ingrese la cantidad a retirar: \"))\n",
        "            if cantidad <= Saldo:\n",
        "                Saldo -= cantidad\n",
        "                print(\"Su saldo actual es: \" + str(Saldo))\n",
        "            else:\n",
        "                print(\"Fondos insuficientes.\")\n",
        "        elif opcion == 4:\n",
        "            cantidad = int(input(\"Ingrese la cantidad a transferir: \"))\n",
        "            if cantidad <= Saldo:\n",
        "                cuenta_transferencia = input(\"Ingrese el nombre de la cuenta de destino: \")\n",
        "                Saldo -= cantidad\n",
        "                print(\"Se realizó la transferencia a la cuenta: \" + cuenta_transferencia)\n",
        "                print(\"Su saldo actual es: \" + str(Saldo))\n",
        "            else:\n",
        "                print(\"Fondos insuficientes.\")\n",
        "        elif opcion == 5:\n",
        "            print(\"Gracias por usar PlataYa.\")\n",
        "            break\n",
        "        else:\n",
        "            print(\"Opción inválida\")\n",
        "else:\n",
        "    print(\"Clave incorrecta.\")"
      ],
      "metadata": {
        "colab": {
          "base_uri": "https://localhost:8080/"
        },
        "id": "XisctCzjwVjz",
        "outputId": "97e61759-b29e-4289-8223-2461f371e4af"
      },
      "execution_count": null,
      "outputs": [
        {
          "output_type": "stream",
          "name": "stdout",
          "text": [
            "Bienvenido al PlataYa\n",
            "Please create the name of your accountcbt\n",
            "Please create a password (this password must be in numbers):2\n",
            "Enter your already created password: 2\n",
            "Password verified successfully!\n",
            "Welcome to your account cbt\n",
            "Opciones: 1. Depositar 2. Ver saldo 3. Retirar 4. Transferir 5. Salir\n",
            "Seleccione una opción: 2\n",
            "Su saldo actual es: 6200.0\n",
            "Opciones: 1. Depositar 2. Ver saldo 3. Retirar 4. Transferir 5. Salir\n",
            "Seleccione una opción: 4\n",
            "Ingrese la cantidad a transferir: 2000\n",
            "Ingrese el nombre de la cuenta de destino: hola\n",
            "Se realizó la transferencia a la cuenta: hola\n",
            "Su saldo actual es: 4200.0\n",
            "Opciones: 1. Depositar 2. Ver saldo 3. Retirar 4. Transferir 5. Salir\n",
            "Seleccione una opción: 5\n",
            "Gracias por usar PlataYa.\n"
          ]
        }
      ]
    },
    {
      "cell_type": "code",
      "source": [
        "t"
      ],
      "metadata": {
        "id": "lUhQwBckxLkA"
      },
      "execution_count": null,
      "outputs": []
    },
    {
      "cell_type": "markdown",
      "source": [],
      "metadata": {
        "id": "RGrmn10Vk-nC"
      }
    }
  ]
}