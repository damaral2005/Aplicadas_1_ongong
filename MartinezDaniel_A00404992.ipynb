{
  "nbformat": 4,
  "nbformat_minor": 0,
  "metadata": {
    "colab": {
      "provenance": [],
      "authorship_tag": "ABX9TyMyS8uJrheI4gnlHw/CPI8o",
      "include_colab_link": true
    },
    "kernelspec": {
      "name": "python3",
      "display_name": "Python 3"
    },
    "language_info": {
      "name": "python"
    }
  },
  "cells": [
    {
      "cell_type": "markdown",
      "metadata": {
        "id": "view-in-github",
        "colab_type": "text"
      },
      "source": [
        "<a href=\"https://colab.research.google.com/github/damaral2005/Aplicadas_1_ongong/blob/main/MartinezDaniel_A00404992.ipynb\" target=\"_parent\"><img src=\"https://colab.research.google.com/assets/colab-badge.svg\" alt=\"Open In Colab\"/></a>"
      ]
    },
    {
      "cell_type": "markdown",
      "source": [
        "# Mi cuaderno colab\n",
        "## autobiografia\n",
        "Me llamo <FONT color = \" red\" > Daniel Martinez </font> , nací en Cali, Colombia el 7 de septiembre de 2005. Me crie con mi Mamá y mi hermana, decidí estudiar ingeniería de sistemas debido a mi interés con los videojuegos, aunque a día de hoy me veo mas interesado con algo relacionado con ciberseguridad. Disfruto mucho de salir con amigos, tejer, jugar videojuegos y ejercitarme. También practique múltiples deportes pero nunca me quede en un por mucho tiempo excepto por el vóley, aunque a día de hoy ya casi no lo practico.\n",
        "\n",
        "\n",
        "\n",
        "\n",
        "\n",
        "\n",
        "\n",
        "\n",
        "\n",
        "\n",
        "\n"
      ],
      "metadata": {
        "id": "lE24NOIkjT-c"
      }
    }
  ]
}