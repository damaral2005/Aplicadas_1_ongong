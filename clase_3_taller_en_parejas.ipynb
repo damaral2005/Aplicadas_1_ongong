{
  "nbformat": 4,
  "nbformat_minor": 0,
  "metadata": {
    "colab": {
      "provenance": [],
      "authorship_tag": "ABX9TyPBmyPJKWuYKTDYRPcm/Mw4",
      "include_colab_link": true
    },
    "kernelspec": {
      "name": "python3",
      "display_name": "Python 3"
    },
    "language_info": {
      "name": "python"
    }
  },
  "cells": [
    {
      "cell_type": "markdown",
      "metadata": {
        "id": "view-in-github",
        "colab_type": "text"
      },
      "source": [
        "<a href=\"https://colab.research.google.com/github/damaral2005/Aplicadas_1_ongong/blob/main/clase_3_taller_en_parejas.ipynb\" target=\"_parent\"><img src=\"https://colab.research.google.com/assets/colab-badge.svg\" alt=\"Open In Colab\"/></a>"
      ]
    },
    {
      "cell_type": "markdown",
      "source": [
        "#Punto 1#\n"
      ],
      "metadata": {
        "id": "tVKVBY8KvnTF"
      }
    },
    {
      "cell_type": "markdown",
      "source": [
        "##1.2##\n",
        "1"
      ],
      "metadata": {
        "id": "ViB9dQAR1dkk"
      }
    },
    {
      "cell_type": "code",
      "source": [
        "k = (3*(-5+10+(-5))-2*((-2)+(-4)+10))**2\n",
        "print(k)"
      ],
      "metadata": {
        "id": "26unYwUMh3Dd",
        "colab": {
          "base_uri": "https://localhost:8080/"
        },
        "outputId": "e3cd39f1-bf62-434a-af8d-a3bfd3772a94"
      },
      "execution_count": 8,
      "outputs": [
        {
          "output_type": "stream",
          "name": "stdout",
          "text": [
            "64\n"
          ]
        }
      ]
    },
    {
      "cell_type": "markdown",
      "source": [
        "2\n"
      ],
      "metadata": {
        "id": "VraOBqc8v2_9"
      }
    },
    {
      "cell_type": "code",
      "source": [
        "k= 45 + (3*(2 + 8) - 8/4) + 10 - 83\n",
        "print(k)\n",
        ""
      ],
      "metadata": {
        "id": "q0n1j573pQdr",
        "colab": {
          "base_uri": "https://localhost:8080/"
        },
        "outputId": "8a2d23eb-2e57-4ed8-9abc-c656760dcc8d"
      },
      "execution_count": 9,
      "outputs": [
        {
          "output_type": "stream",
          "name": "stdout",
          "text": [
            "0.0\n"
          ]
        }
      ]
    },
    {
      "cell_type": "markdown",
      "source": [
        "3"
      ],
      "metadata": {
        "id": "hpZkz-Mbv-ET"
      }
    },
    {
      "cell_type": "code",
      "source": [
        "y= ((-4 + 7)* 2 -10)*(-4) - 7 - 3\n",
        "print(y)"
      ],
      "metadata": {
        "id": "HwGvzo70rain",
        "colab": {
          "base_uri": "https://localhost:8080/"
        },
        "outputId": "2e3ac2f8-a42b-48b7-eba1-83b78ed0da30"
      },
      "execution_count": 10,
      "outputs": [
        {
          "output_type": "stream",
          "name": "stdout",
          "text": [
            "6\n"
          ]
        }
      ]
    },
    {
      "cell_type": "markdown",
      "source": [
        "##1.3##\n",
        "1"
      ],
      "metadata": {
        "id": "22LJLPS7wDAJ"
      }
    },
    {
      "cell_type": "code",
      "source": [
        "z= 1/5*((1/4) + (9/16)) + 10/25*((1/4) + (9/16)) + 8/40*((1/4) + (9/16))\n",
        "print(z)\n",
        ""
      ],
      "metadata": {
        "id": "lw2tADuhyUZY",
        "colab": {
          "base_uri": "https://localhost:8080/"
        },
        "outputId": "5f833fcc-355d-4d44-a748-15cbe25ecc6c"
      },
      "execution_count": 11,
      "outputs": [
        {
          "output_type": "stream",
          "name": "stdout",
          "text": [
            "0.65\n"
          ]
        }
      ]
    },
    {
      "cell_type": "markdown",
      "source": [
        "2\n"
      ],
      "metadata": {
        "id": "k0jSjx3yyVRR"
      }
    },
    {
      "cell_type": "code",
      "source": [
        "l= 9/4*((8/6) - 5/2*(20/25) + 5*(16/20))\n",
        "print(l)\n",
        ""
      ],
      "metadata": {
        "id": "8kbxZ6Z4sXD0",
        "colab": {
          "base_uri": "https://localhost:8080/"
        },
        "outputId": "65a0edb4-e5dd-487a-a7a1-ad421175420a"
      },
      "execution_count": 12,
      "outputs": [
        {
          "output_type": "stream",
          "name": "stdout",
          "text": [
            "7.499999999999999\n"
          ]
        }
      ]
    },
    {
      "cell_type": "markdown",
      "source": [
        "#Punto 2#\n",
        "1. Area de un cilindro"
      ],
      "metadata": {
        "id": "gYwNWlKFxhYe"
      }
    },
    {
      "cell_type": "markdown",
      "source": [
        "$r=\\frac{a}{2g\\Pi}$"
      ],
      "metadata": {
        "id": "i8tiW7-exxZd"
      }
    },
    {
      "cell_type": "markdown",
      "source": [
        "2. Volumen del cono\n"
      ],
      "metadata": {
        "id": "opIkvQzGxyZz"
      }
    },
    {
      "cell_type": "markdown",
      "source": [
        "$\\frac{V\\cdot\n",
        "3}{A_{B}} = h$"
      ],
      "metadata": {
        "id": "3U7EuBgSxnOG"
      }
    },
    {
      "cell_type": "markdown",
      "source": [
        "3. Volumen de la esfera"
      ],
      "metadata": {
        "id": "S-sHVyXhy7tG"
      }
    },
    {
      "cell_type": "markdown",
      "source": [
        "$r=\\sqrt[3]{\\frac{3v}{4\\Pi}}$"
      ],
      "metadata": {
        "id": "pVSsDZTSzGzc"
      }
    },
    {
      "cell_type": "markdown",
      "source": [
        "4. Area del trapecio\n"
      ],
      "metadata": {
        "id": "st29zVfAzQ5C"
      }
    },
    {
      "cell_type": "markdown",
      "source": [],
      "metadata": {
        "id": "8PfctoI11EAs"
      }
    },
    {
      "cell_type": "markdown",
      "source": [
        "$h = \\frac{2A}{B+b}$"
      ],
      "metadata": {
        "id": "pxRHw2llzZ7p"
      }
    },
    {
      "cell_type": "markdown",
      "source": [
        "5. intensidad electrica\n"
      ],
      "metadata": {
        "id": "KO8w3Xrk0acA"
      }
    },
    {
      "cell_type": "markdown",
      "source": [
        "$t=\\frac{q}{i}$"
      ],
      "metadata": {
        "id": "KFtPNSQA0hCG"
      }
    },
    {
      "cell_type": "markdown",
      "source": [
        "6. Ley de ohm"
      ],
      "metadata": {
        "id": "s0WG9DXi0iNr"
      }
    },
    {
      "cell_type": "markdown",
      "source": [
        "$R = \\frac{V}{I}$"
      ],
      "metadata": {
        "id": "W3zSL9E80yow"
      }
    },
    {
      "cell_type": "markdown",
      "source": [
        "7. Energia electrica\n"
      ],
      "metadata": {
        "id": "iDRnmmer0_oD"
      }
    },
    {
      "cell_type": "markdown",
      "source": [
        "$\\frac{Er}{v^{2}}=t$"
      ],
      "metadata": {
        "id": "rR6iVwO90_Y_"
      }
    },
    {
      "cell_type": "markdown",
      "source": [
        "8. Resistencias en paralelo\n"
      ],
      "metadata": {
        "id": "hnTK_MtZ1PBr"
      }
    },
    {
      "cell_type": "markdown",
      "source": [
        "$R = \\frac{1}{\\frac{1}{R_{1}}+\\frac{1}{R_{2}}}$"
      ],
      "metadata": {
        "id": "aAneX-OO2eKG"
      }
    },
    {
      "cell_type": "markdown",
      "source": [
        "9. Ecuacion de gases perfectos"
      ],
      "metadata": {
        "id": "T6SEcbIi2jCV"
      }
    },
    {
      "cell_type": "markdown",
      "source": [
        "$P_f =\\frac{ T_{f}V_{0}P_{0}}{T_{0}V_{f}}$"
      ],
      "metadata": {
        "id": "XNrfVkO-2swl"
      }
    },
    {
      "cell_type": "markdown",
      "source": [
        "10. intensidad electrica"
      ],
      "metadata": {
        "id": "Ai4xoThh4GhN"
      }
    },
    {
      "cell_type": "markdown",
      "source": [
        "$V_{A}-RI=V_{B}$"
      ],
      "metadata": {
        "id": "htZpwd_m4Onu"
      }
    },
    {
      "cell_type": "markdown",
      "source": [
        "##2.1##"
      ],
      "metadata": {
        "id": "nAxjgvLL9AED"
      }
    },
    {
      "cell_type": "code",
      "source": [
        "x=5\n",
        "if x<-3:\n",
        "  print(\"f(x)= x+2\")\n",
        "if -3<=x<0:\n",
        "    print(\"f(x)= -x\")\n",
        "elif x>=0:\n",
        "    print(\"f(x) 2\")"
      ],
      "metadata": {
        "colab": {
          "base_uri": "https://localhost:8080/"
        },
        "id": "-g7-iPpR6-0b",
        "outputId": "6f94abea-712e-4262-ec04-0325145d144b"
      },
      "execution_count": null,
      "outputs": [
        {
          "output_type": "stream",
          "name": "stdout",
          "text": [
            "f(x) 2\n"
          ]
        }
      ]
    },
    {
      "cell_type": "markdown",
      "source": [
        "##2.2##"
      ],
      "metadata": {
        "id": "ycOWrdu65JFc"
      }
    },
    {
      "cell_type": "code",
      "source": [
        "print(\"Hi, this app is to find the position of Y according to a and b, X in this case is 5\")\n",
        "x = 5\n",
        "a = float(input(\"Enter a number a:\"))\n",
        "b = float(input(\"Enter a number b:\"))\n",
        "\n",
        "if x < 0:\n",
        "    y = a - x**2\n",
        "elif 0 <= x < 1:\n",
        "    y = 2\n",
        "else:\n",
        "    y = x**2 - 2*x + b\n",
        "\n",
        "print(f\"The value of f(x) is: {y}\")"
      ],
      "metadata": {
        "colab": {
          "base_uri": "https://localhost:8080/"
        },
        "id": "0HqnRAeK8AH2",
        "outputId": "26fe6a1d-3c2d-4283-e66a-80040f7a609c"
      },
      "execution_count": null,
      "outputs": [
        {
          "output_type": "stream",
          "name": "stdout",
          "text": [
            "Hi, this app is to find the position of Y according to a and b, X in this case is 5\n",
            "Enter a number a:2\n",
            "Enter a number b:3\n",
            "The value of f(x) is: 18.0\n"
          ]
        }
      ]
    },
    {
      "cell_type": "markdown",
      "source": [
        "#Punto 3#"
      ],
      "metadata": {
        "id": "EVMKfMHm_cCe"
      }
    },
    {
      "cell_type": "markdown",
      "source": [
        "##3.1##"
      ],
      "metadata": {
        "id": "fVtm5oZEAszY"
      }
    },
    {
      "cell_type": "code",
      "source": [
        "import math\n",
        "lista=[]\n",
        "cuadrados=[]\n",
        "cubos=[]\n",
        "raices=[]\n",
        "\n",
        "decision= int(input(\"cuantos numeros desea agregar:\"))\n",
        "for i in range(decision):\n",
        "    numeros= int(input(\"ingrese el numero:\"))\n",
        "    lista.append({\"lista\": numeros})\n",
        "    print(lista)\n",
        "    numeros_al_cuadrado= numeros**2\n",
        "    cuadrados.append({\"cuadrados\": numeros_al_cuadrado})\n",
        "    print(cuadrados)\n",
        "    numeros_al_cubo= numeros**3\n",
        "    cubos.append({\"cubos\": numeros_al_cubo})\n",
        "    print(cubos)\n",
        "    raiz= math.sqrt(numeros)\n",
        "    raices.append({\"raices\": raiz})\n",
        "    print(raices)\n",
        "\n"
      ],
      "metadata": {
        "colab": {
          "base_uri": "https://localhost:8080/"
        },
        "id": "sW3XEkK-3hc0",
        "outputId": "4cb60ac6-339d-4985-d69d-ccca84f8e3e5"
      },
      "execution_count": 3,
      "outputs": [
        {
          "output_type": "stream",
          "name": "stdout",
          "text": [
            "cuantos numeros desea agregar:1\n",
            "ingrese el numero:1\n",
            "[{'lista': 1}]\n",
            "[{'cuadrados': 1}]\n",
            "[{'cubos': 1}]\n",
            "[{'raices': 1.0}]\n"
          ]
        }
      ]
    },
    {
      "cell_type": "markdown",
      "source": [
        "##3.2##"
      ],
      "metadata": {
        "id": "ZqNqKP9IAwvS"
      }
    },
    {
      "cell_type": "code",
      "source": [
        "\n",
        "\n",
        "semestre_pasado=[]\n",
        "decision= int(input(\"ingrese la cantidad de materias que curso en el semestre pasado:\"))\n",
        "for i in range(decision):\n",
        "    subjects= input(\"ingrese el nombre de la materia:\")\n",
        "    grade= float(input(\"ingrese la nota de la materia:\"))\n",
        "    semestre_pasado.append({\"materia\": subjects, \"notas\": grade })\n",
        "    if grade >= 4.0:\n",
        "        print(\"tienes una nota nivel superior\")\n",
        "    if grade == 3.5 and grade < 4.0:\n",
        "        print(\"asignatura aprobada pero debe asistir a plan de mejoramiento, dirijirse a CAMBAS\")\n",
        "    if grade < 3.5:\n",
        "        print(\"materia no aprobada, debe repetirla el siguiente semestre\")\n",
        "    if grade < 0.0 or grade > 5.0:\n",
        "      print(\"error, vuelva a digitar la nota\")\n",
        "      grade= float(input(\"ingrese la nota de la materia:\"))\n",
        "print(semestre_pasado)\n"
      ],
      "metadata": {
        "colab": {
          "base_uri": "https://localhost:8080/"
        },
        "id": "pFa1kTeK3vul",
        "outputId": "9044fb6b-24c8-4cef-e113-eef30aa88169"
      },
      "execution_count": 7,
      "outputs": [
        {
          "output_type": "stream",
          "name": "stdout",
          "text": [
            "ingrese la cantidad de materias que curso en el semestre pasado:2\n",
            "ingrese el nombre de la materia:ingles\n",
            "ingrese la nota de la materia:5.0\n",
            "tienes una nota nivel superior\n",
            "ingrese el nombre de la materia:frances\n",
            "ingrese la nota de la materia:2.3\n",
            "materia no aprobada, debe repetirla el siguiente semestre\n",
            "[{'materia': 'ingles', 'notas': 5.0}, {'materia': 'frances', 'notas': 2.3}]\n"
          ]
        }
      ]
    },
    {
      "cell_type": "markdown",
      "source": [
        "##3.3##"
      ],
      "metadata": {
        "id": "4g7TRkwvAy7H"
      }
    },
    {
      "cell_type": "code",
      "source": [
        "barril_petroleo=[76.65, 75.34, 75.03, 78.85, 80.79, 80.65, 79.58 ]\n",
        "precio_litro_cocacola= 3500\n",
        "litros_a_barriles= 158.987\n",
        "barril_cocacola= float(precio_litro_cocacola * litros_a_barriles)\n",
        "print(barril_cocacola)\n",
        "tasa_cambio= 4081\n",
        "precios_petroleo_cop = [precio * tasa_cambio for precio in barril_petroleo]\n",
        "precio_barril_cocacola_cop = barril_cocacola * tasa_cambio\n",
        "relacion_precios_cop = [precio_petroleo / precio_barril_cocacola_cop for precio_petroleo in precios_petroleo_cop]\n",
        "\n",
        "conclusion = f\"\"\"\n",
        "Comparando los precios del barril de petróleo con un barril de Coca-Cola en pesos colombianos, se observa que:\n",
        "El precio promedio del barril de petróleo en los últimos 7 días fue de: {sum(precios_petroleo_cop) / len(precios_petroleo_cop):,.0f} PESOS COLOMBIANOS\n",
        "El precio de un barril de Coca-Cola, considerando un precio de:{precio_litro_cocacola} dólares por litro, sería de {precio_barril_cocacola_cop:,.0f} PESOS COLOMBIANOS\n",
        "La proporción entre el precio del barril de petróleo y el de CocaCola varía entre los valores: {relacion_precios_cop}.\n",
        "\n",
        "Esto muestra que el precio de un barril de Coca-Cola es significativamente más alto que el del petróleo, incluso cuando se mide en la misma unidad de volumen y se convierte a pesos colombianos.\n",
        "\"\"\"\n",
        "\n",
        "print(conclusion)"
      ],
      "metadata": {
        "colab": {
          "base_uri": "https://localhost:8080/"
        },
        "id": "MeNSIXHG3zrr",
        "outputId": "41e5e330-39bd-455e-b330-c46762aee18e"
      },
      "execution_count": 13,
      "outputs": [
        {
          "output_type": "stream",
          "name": "stdout",
          "text": [
            "556454.5\n",
            "\n",
            "Comparando los precios del barril de petróleo con un barril de Coca-Cola en pesos colombianos, se observa que:\n",
            "El precio promedio del barril de petróleo en los últimos 7 días fue de: 318,837 PESOS COLOMBIANOS\n",
            "El precio de un barril de Coca-Cola, considerando un precio de:3500 dólares por litro, sería de 2,270,890,814 PESOS COLOMBIANOS\n",
            "La proporción entre el precio del barril de petróleo y el de CocaCola varía entre los valores: [0.0001377471113990452, 0.00013539292071499109, 0.0001348358221561691, 0.00014170071407455594, 0.00014518707279750638, 0.00014493547989997385, 0.00014301259132597544].\n",
            "\n",
            "Esto muestra que el precio de un barril de Coca-Cola es significativamente más alto que el del petróleo, incluso cuando se mide en la misma unidad de volumen y se convierte a pesos colombianos.\n",
            "\n"
          ]
        }
      ]
    },
    {
      "cell_type": "markdown",
      "source": [
        "##3.4##"
      ],
      "metadata": {
        "id": "gPHqIqs2_f7A"
      }
    },
    {
      "cell_type": "code",
      "source": [
        "# Se genera la lista de los ahorros anuales\n",
        "ahorro_anual = []\n",
        "\n",
        "# esta es la cantidad inicial del año 1\n",
        "cantidad_mensual = 5\n",
        "\n",
        "for año in range(1, 16):\n",
        "    ahorro = cantidad_mensual * 12  # Ahorro de ese año\n",
        "    ahorro_anual.append(ahorro)  # se usa el .append para añadir la info de la variable ahorro a la lista ahorro_anual\n",
        "    cantidad_mensual += 10  # incrementar la cantidad mensual en $10 cada año\n",
        "\n",
        "# Calcular el total ahorrado en 15 años, creamos una variable \"total_ahorrado\" y sumamos todos los datos que se encuentran en la lista\n",
        "total_ahorrado = sum(ahorro_anual)\n",
        "\n",
        "# Mostrar los resultados\n",
        "print(\"Lista del ahorro de los 15 años de matrimonio:\", ahorro_anual)\n",
        "print(f\"Cantidad total ahorrada al final del decimoquinto año: ${total_ahorrado}\")"
      ],
      "metadata": {
        "colab": {
          "base_uri": "https://localhost:8080/"
        },
        "id": "JGx-MTis_j_Q",
        "outputId": "627d2652-972b-4968-ccc4-5d4f79b08c94"
      },
      "execution_count": null,
      "outputs": [
        {
          "output_type": "stream",
          "name": "stdout",
          "text": [
            "Lista del ahorro de los 15 años de matrimonio: [60, 180, 300, 420, 540, 660, 780, 900, 1020, 1140, 1260, 1380, 1500, 1620, 1740]\n",
            "Cantidad total ahorrada al final del decimoquinto año: $13500\n"
          ]
        }
      ]
    }
  ]
}