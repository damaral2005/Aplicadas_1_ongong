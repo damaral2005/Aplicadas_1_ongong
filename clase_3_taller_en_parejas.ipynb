{
  "nbformat": 4,
  "nbformat_minor": 0,
  "metadata": {
    "colab": {
      "provenance": [],
      "collapsed_sections": [
        "tVKVBY8KvnTF",
        "ViB9dQAR1dkk",
        "22LJLPS7wDAJ",
        "gYwNWlKFxhYe",
        "gPHqIqs2_f7A"
      ],
      "authorship_tag": "ABX9TyOmHp+gEBJnudkTsZmFXkg1",
      "include_colab_link": true
    },
    "kernelspec": {
      "name": "python3",
      "display_name": "Python 3"
    },
    "language_info": {
      "name": "python"
    }
  },
  "cells": [
    {
      "cell_type": "markdown",
      "metadata": {
        "id": "view-in-github",
        "colab_type": "text"
      },
      "source": [
        "<a href=\"https://colab.research.google.com/github/damaral2005/Aplicadas_1_ongong/blob/main/clase_3_taller_en_parejas.ipynb\" target=\"_parent\"><img src=\"https://colab.research.google.com/assets/colab-badge.svg\" alt=\"Open In Colab\"/></a>"
      ]
    },
    {
      "cell_type": "markdown",
      "source": [
        "#Punto 1#\n"
      ],
      "metadata": {
        "id": "tVKVBY8KvnTF"
      }
    },
    {
      "cell_type": "markdown",
      "source": [
        "##1.2##\n",
        "1"
      ],
      "metadata": {
        "id": "ViB9dQAR1dkk"
      }
    },
    {
      "cell_type": "code",
      "source": [
        "k = (3*(-5+10+(-5))-2*((-2)+(-4)+10))**2\n",
        "print(k)"
      ],
      "metadata": {
        "id": "26unYwUMh3Dd"
      },
      "execution_count": null,
      "outputs": []
    },
    {
      "cell_type": "markdown",
      "source": [
        "2\n"
      ],
      "metadata": {
        "id": "VraOBqc8v2_9"
      }
    },
    {
      "cell_type": "code",
      "source": [
        "45 + (3*(2 + 8)-8/4) + 10 - 83\n"
      ],
      "metadata": {
        "id": "q0n1j573pQdr"
      },
      "execution_count": null,
      "outputs": []
    },
    {
      "cell_type": "markdown",
      "source": [
        "3"
      ],
      "metadata": {
        "id": "hpZkz-Mbv-ET"
      }
    },
    {
      "cell_type": "code",
      "source": [
        "((-4 + 7)*2 - 10)*(-4) - 7 - 3\n"
      ],
      "metadata": {
        "id": "HwGvzo70rain"
      },
      "execution_count": null,
      "outputs": []
    },
    {
      "cell_type": "markdown",
      "source": [
        "##1.3##\n",
        "1"
      ],
      "metadata": {
        "id": "22LJLPS7wDAJ"
      }
    },
    {
      "cell_type": "code",
      "source": [
        "1/5*((1/2)*2 + (3/4)*2)+10/25*((1/2)*2+(3/4)*2)+8/40*((1/2)*2+(3/4)*2)"
      ],
      "metadata": {
        "id": "lw2tADuhyUZY"
      },
      "execution_count": null,
      "outputs": []
    },
    {
      "cell_type": "markdown",
      "source": [
        "2\n"
      ],
      "metadata": {
        "id": "k0jSjx3yyVRR"
      }
    },
    {
      "cell_type": "code",
      "source": [
        "72/24 - 100/50 + 640/160"
      ],
      "metadata": {
        "id": "8kbxZ6Z4sXD0"
      },
      "execution_count": null,
      "outputs": []
    },
    {
      "cell_type": "markdown",
      "source": [
        "#Punto 2#\n",
        "1. Area de un cilindro"
      ],
      "metadata": {
        "id": "gYwNWlKFxhYe"
      }
    },
    {
      "cell_type": "markdown",
      "source": [
        "$r=\\frac{a}{2g\\Pi}$"
      ],
      "metadata": {
        "id": "i8tiW7-exxZd"
      }
    },
    {
      "cell_type": "markdown",
      "source": [
        "2. Volumen del cono\n"
      ],
      "metadata": {
        "id": "opIkvQzGxyZz"
      }
    },
    {
      "cell_type": "markdown",
      "source": [
        "$\\frac{V\\cdot\n",
        "3}{A_{B}} = h$"
      ],
      "metadata": {
        "id": "3U7EuBgSxnOG"
      }
    },
    {
      "cell_type": "markdown",
      "source": [
        "3. Volumen de la esfera"
      ],
      "metadata": {
        "id": "S-sHVyXhy7tG"
      }
    },
    {
      "cell_type": "markdown",
      "source": [
        "$r=\\sqrt[3]{\\frac{3v}{4\\Pi}}$"
      ],
      "metadata": {
        "id": "pVSsDZTSzGzc"
      }
    },
    {
      "cell_type": "markdown",
      "source": [
        "4. Area del trapecio\n"
      ],
      "metadata": {
        "id": "st29zVfAzQ5C"
      }
    },
    {
      "cell_type": "markdown",
      "source": [],
      "metadata": {
        "id": "8PfctoI11EAs"
      }
    },
    {
      "cell_type": "markdown",
      "source": [
        "$h = \\frac{2A}{B+b}$"
      ],
      "metadata": {
        "id": "pxRHw2llzZ7p"
      }
    },
    {
      "cell_type": "markdown",
      "source": [
        "5. intensidad electrica\n"
      ],
      "metadata": {
        "id": "KO8w3Xrk0acA"
      }
    },
    {
      "cell_type": "markdown",
      "source": [
        "$t=\\frac{q}{i}$"
      ],
      "metadata": {
        "id": "KFtPNSQA0hCG"
      }
    },
    {
      "cell_type": "markdown",
      "source": [
        "6. Ley de ohm"
      ],
      "metadata": {
        "id": "s0WG9DXi0iNr"
      }
    },
    {
      "cell_type": "markdown",
      "source": [
        "$R = \\frac{V}{I}$"
      ],
      "metadata": {
        "id": "W3zSL9E80yow"
      }
    },
    {
      "cell_type": "markdown",
      "source": [
        "7. Energia electrica\n"
      ],
      "metadata": {
        "id": "iDRnmmer0_oD"
      }
    },
    {
      "cell_type": "markdown",
      "source": [
        "$\\frac{Er}{v^{2}}=t$"
      ],
      "metadata": {
        "id": "rR6iVwO90_Y_"
      }
    },
    {
      "cell_type": "markdown",
      "source": [
        "8. Resistencias en paralelo\n"
      ],
      "metadata": {
        "id": "hnTK_MtZ1PBr"
      }
    },
    {
      "cell_type": "markdown",
      "source": [
        "$R = \\frac{1}{\\frac{1}{R_{1}}+\\frac{1}{R_{2}}}$"
      ],
      "metadata": {
        "id": "aAneX-OO2eKG"
      }
    },
    {
      "cell_type": "markdown",
      "source": [
        "9. Ecuacion de gases perfectos"
      ],
      "metadata": {
        "id": "T6SEcbIi2jCV"
      }
    },
    {
      "cell_type": "code",
      "source": [],
      "metadata": {
        "id": "zjxFn_Rm-qU4"
      },
      "execution_count": null,
      "outputs": []
    },
    {
      "cell_type": "markdown",
      "source": [
        "$P_f =\\frac{ T_{f}V_{0}P_{0}}{T_{0}V_{f}}$"
      ],
      "metadata": {
        "id": "XNrfVkO-2swl"
      }
    },
    {
      "cell_type": "markdown",
      "source": [
        "10. intensidad electrica"
      ],
      "metadata": {
        "id": "Ai4xoThh4GhN"
      }
    },
    {
      "cell_type": "markdown",
      "source": [
        "$V_{A}-RI=V_{B}$"
      ],
      "metadata": {
        "id": "htZpwd_m4Onu"
      }
    },
    {
      "cell_type": "markdown",
      "source": [
        "##2.1##"
      ],
      "metadata": {
        "id": "nAxjgvLL9AED"
      }
    },
    {
      "cell_type": "code",
      "source": [
        "x=5\n",
        "if x<-3:\n",
        "  print(\"f(x)= x+2\")\n",
        "if -3<=x<0:\n",
        "    print(\"f(x)= -x\")\n",
        "elif x>=0:\n",
        "    print(\"f(x) 2\")"
      ],
      "metadata": {
        "colab": {
          "base_uri": "https://localhost:8080/"
        },
        "id": "-g7-iPpR6-0b",
        "outputId": "6f94abea-712e-4262-ec04-0325145d144b"
      },
      "execution_count": null,
      "outputs": [
        {
          "output_type": "stream",
          "name": "stdout",
          "text": [
            "f(x) 2\n"
          ]
        }
      ]
    },
    {
      "cell_type": "markdown",
      "source": [
        "##2.2##"
      ],
      "metadata": {
        "id": "ycOWrdu65JFc"
      }
    },
    {
      "cell_type": "code",
      "source": [
        "print(\"Hi, this app is to find the position of Y according to a and b, X in this case is 5\")\n",
        "x = 5\n",
        "a = float(input(\"Enter a number a:\"))\n",
        "b = float(input(\"Enter a number b:\"))\n",
        "\n",
        "if x < 0:\n",
        "    y = a - x**2\n",
        "elif 0 <= x < 1:\n",
        "    y = 2\n",
        "else:\n",
        "    y = x**2 - 2*x + b\n",
        "\n",
        "print(f\"The value of f(x) is: {y}\")"
      ],
      "metadata": {
        "colab": {
          "base_uri": "https://localhost:8080/",
          "height": 391
        },
        "id": "0HqnRAeK8AH2",
        "outputId": "fded11ce-56b7-406e-be74-e298d6fbf6dd"
      },
      "execution_count": 52,
      "outputs": [
        {
          "name": "stdout",
          "output_type": "stream",
          "text": [
            "Hi, this app is to find the position of Y according to a and b, X in this case is 5\n",
            "Enter a number a:2\n"
          ]
        },
        {
          "output_type": "error",
          "ename": "KeyboardInterrupt",
          "evalue": "Interrupted by user",
          "traceback": [
            "\u001b[0;31m---------------------------------------------------------------------------\u001b[0m",
            "\u001b[0;31mKeyboardInterrupt\u001b[0m                         Traceback (most recent call last)",
            "\u001b[0;32m<ipython-input-52-b85923d42503>\u001b[0m in \u001b[0;36m<cell line: 4>\u001b[0;34m()\u001b[0m\n\u001b[1;32m      2\u001b[0m \u001b[0mx\u001b[0m \u001b[0;34m=\u001b[0m \u001b[0;34m-\u001b[0m\u001b[0;36m10\u001b[0m\u001b[0;34m\u001b[0m\u001b[0;34m\u001b[0m\u001b[0m\n\u001b[1;32m      3\u001b[0m \u001b[0ma\u001b[0m \u001b[0;34m=\u001b[0m \u001b[0mfloat\u001b[0m\u001b[0;34m(\u001b[0m\u001b[0minput\u001b[0m\u001b[0;34m(\u001b[0m\u001b[0;34m\"Enter a number a:\"\u001b[0m\u001b[0;34m)\u001b[0m\u001b[0;34m)\u001b[0m\u001b[0;34m\u001b[0m\u001b[0;34m\u001b[0m\u001b[0m\n\u001b[0;32m----> 4\u001b[0;31m \u001b[0mb\u001b[0m \u001b[0;34m=\u001b[0m \u001b[0mfloat\u001b[0m\u001b[0;34m(\u001b[0m\u001b[0minput\u001b[0m\u001b[0;34m(\u001b[0m\u001b[0;34m\"Enter a number b:\"\u001b[0m\u001b[0;34m)\u001b[0m\u001b[0;34m)\u001b[0m\u001b[0;34m\u001b[0m\u001b[0;34m\u001b[0m\u001b[0m\n\u001b[0m\u001b[1;32m      5\u001b[0m \u001b[0;34m\u001b[0m\u001b[0m\n\u001b[1;32m      6\u001b[0m \u001b[0;32mif\u001b[0m \u001b[0mx\u001b[0m \u001b[0;34m<\u001b[0m \u001b[0;36m0\u001b[0m\u001b[0;34m:\u001b[0m\u001b[0;34m\u001b[0m\u001b[0;34m\u001b[0m\u001b[0m\n",
            "\u001b[0;32m/usr/local/lib/python3.10/dist-packages/ipykernel/kernelbase.py\u001b[0m in \u001b[0;36mraw_input\u001b[0;34m(self, prompt)\u001b[0m\n\u001b[1;32m    849\u001b[0m                 \u001b[0;34m\"raw_input was called, but this frontend does not support input requests.\"\u001b[0m\u001b[0;34m\u001b[0m\u001b[0;34m\u001b[0m\u001b[0m\n\u001b[1;32m    850\u001b[0m             )\n\u001b[0;32m--> 851\u001b[0;31m         return self._input_request(str(prompt),\n\u001b[0m\u001b[1;32m    852\u001b[0m             \u001b[0mself\u001b[0m\u001b[0;34m.\u001b[0m\u001b[0m_parent_ident\u001b[0m\u001b[0;34m,\u001b[0m\u001b[0;34m\u001b[0m\u001b[0;34m\u001b[0m\u001b[0m\n\u001b[1;32m    853\u001b[0m             \u001b[0mself\u001b[0m\u001b[0;34m.\u001b[0m\u001b[0m_parent_header\u001b[0m\u001b[0;34m,\u001b[0m\u001b[0;34m\u001b[0m\u001b[0;34m\u001b[0m\u001b[0m\n",
            "\u001b[0;32m/usr/local/lib/python3.10/dist-packages/ipykernel/kernelbase.py\u001b[0m in \u001b[0;36m_input_request\u001b[0;34m(self, prompt, ident, parent, password)\u001b[0m\n\u001b[1;32m    893\u001b[0m             \u001b[0;32mexcept\u001b[0m \u001b[0mKeyboardInterrupt\u001b[0m\u001b[0;34m:\u001b[0m\u001b[0;34m\u001b[0m\u001b[0;34m\u001b[0m\u001b[0m\n\u001b[1;32m    894\u001b[0m                 \u001b[0;31m# re-raise KeyboardInterrupt, to truncate traceback\u001b[0m\u001b[0;34m\u001b[0m\u001b[0;34m\u001b[0m\u001b[0m\n\u001b[0;32m--> 895\u001b[0;31m                 \u001b[0;32mraise\u001b[0m \u001b[0mKeyboardInterrupt\u001b[0m\u001b[0;34m(\u001b[0m\u001b[0;34m\"Interrupted by user\"\u001b[0m\u001b[0;34m)\u001b[0m \u001b[0;32mfrom\u001b[0m \u001b[0;32mNone\u001b[0m\u001b[0;34m\u001b[0m\u001b[0;34m\u001b[0m\u001b[0m\n\u001b[0m\u001b[1;32m    896\u001b[0m             \u001b[0;32mexcept\u001b[0m \u001b[0mException\u001b[0m \u001b[0;32mas\u001b[0m \u001b[0me\u001b[0m\u001b[0;34m:\u001b[0m\u001b[0;34m\u001b[0m\u001b[0;34m\u001b[0m\u001b[0m\n\u001b[1;32m    897\u001b[0m                 \u001b[0mself\u001b[0m\u001b[0;34m.\u001b[0m\u001b[0mlog\u001b[0m\u001b[0;34m.\u001b[0m\u001b[0mwarning\u001b[0m\u001b[0;34m(\u001b[0m\u001b[0;34m\"Invalid Message:\"\u001b[0m\u001b[0;34m,\u001b[0m \u001b[0mexc_info\u001b[0m\u001b[0;34m=\u001b[0m\u001b[0;32mTrue\u001b[0m\u001b[0;34m)\u001b[0m\u001b[0;34m\u001b[0m\u001b[0;34m\u001b[0m\u001b[0m\n",
            "\u001b[0;31mKeyboardInterrupt\u001b[0m: Interrupted by user"
          ]
        }
      ]
    },
    {
      "cell_type": "markdown",
      "source": [
        "#Punto 3#"
      ],
      "metadata": {
        "id": "EVMKfMHm_cCe"
      }
    },
    {
      "cell_type": "markdown",
      "source": [
        "##3.1##"
      ],
      "metadata": {
        "id": "fVtm5oZEAszY"
      }
    },
    {
      "cell_type": "markdown",
      "source": [
        "##3.2##"
      ],
      "metadata": {
        "id": "ZqNqKP9IAwvS"
      }
    },
    {
      "cell_type": "markdown",
      "source": [
        "##3.3##"
      ],
      "metadata": {
        "id": "4g7TRkwvAy7H"
      }
    },
    {
      "cell_type": "markdown",
      "source": [
        "##3.4##"
      ],
      "metadata": {
        "id": "gPHqIqs2_f7A"
      }
    },
    {
      "cell_type": "code",
      "source": [
        "# Lista para almacenar el ahorro anual\n",
        "ahorro_anual = []\n",
        "\n",
        "# Cantidad inicial mensual\n",
        "cantidad_mensual = 5\n",
        "\n",
        "# Calcular el ahorro para cada año\n",
        "for año in range(1, 16):\n",
        "    ahorro = cantidad_mensual * 12  # Ahorro de ese año\n",
        "    ahorro_anual.append(ahorro)  # Agregar a la lista\n",
        "    cantidad_mensual += 10  # Incrementar la cantidad mensual en $10 cada año\n",
        "\n",
        "# Calcular el total ahorrado en 15 años\n",
        "total_ahorrado = sum(ahorro_anual)\n",
        "\n",
        "# Mostrar los resultados\n",
        "print(\"Lista del ahorro de los 15 años de matrimonio:\", ahorro_anual)\n",
        "print(f\"Cantidad total ahorrada al final del decimoquinto año: ${total_ahorrado}\")"
      ],
      "metadata": {
        "colab": {
          "base_uri": "https://localhost:8080/"
        },
        "id": "JGx-MTis_j_Q",
        "outputId": "627d2652-972b-4968-ccc4-5d4f79b08c94"
      },
      "execution_count": 54,
      "outputs": [
        {
          "output_type": "stream",
          "name": "stdout",
          "text": [
            "Lista del ahorro de los 15 años de matrimonio: [60, 180, 300, 420, 540, 660, 780, 900, 1020, 1140, 1260, 1380, 1500, 1620, 1740]\n",
            "Cantidad total ahorrada al final del decimoquinto año: $13500\n"
          ]
        }
      ]
    }
  ]
}